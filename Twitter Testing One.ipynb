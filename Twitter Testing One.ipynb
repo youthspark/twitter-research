{
 "cells": [
  {
   "cell_type": "code",
   "execution_count": 1,
   "metadata": {},
   "outputs": [
    {
     "name": "stdout",
     "output_type": "stream",
     "text": [
      "Hello World\n"
     ]
    }
   ],
   "source": [
    "print(\"Hello World\")"
   ]
  },
  {
   "cell_type": "code",
   "execution_count": 2,
   "metadata": {},
   "outputs": [],
   "source": [
    "import tweepy\n",
    "consumer_key = \"WV8hZOZ2nwriCOyZV2VwDf7yS\"\n",
    "consumer_secret = \"s6WFtpBsQ3A8kOvoPFNXmXfH3ti3VVyScQqqmYW5AZJj0jJ9Oc\"\n",
    "access_token = \"1600243357-iCXCOPpWjg4O52pbsi5DDLNYYuSPjCEzYAJisET\"\n",
    "access_token_secret = \"rA4ZAsryqwXFg3MiWymR40QjUOC7DRl1iK0ghFAADunPo\""
   ]
  },
  {
   "cell_type": "code",
   "execution_count": 3,
   "metadata": {},
   "outputs": [],
   "source": [
    "# Creating the authentication object\n",
    "auth = tweepy.OAuthHandler(consumer_key, consumer_secret)\n",
    "# Setting your access token and secret\n",
    "auth.set_access_token(access_token, access_token_secret)\n",
    "# Creating the API object while passing in auth information\n",
    "api = tweepy.API(auth)"
   ]
  },
  {
   "cell_type": "code",
   "execution_count": 4,
   "metadata": {},
   "outputs": [],
   "source": [
    "# Using the API object to get tweets from my timeline, and storing it in a variable called public_tweets\n",
    "public_tweets = api.home_timeline()\n"
   ]
  },
  {
   "cell_type": "code",
   "execution_count": 5,
   "metadata": {},
   "outputs": [
    {
     "name": "stdout",
     "output_type": "stream",
     "text": [
      "GOP strategist: Putin summit \"made Trump look weak\" https://t.co/BD7BtyEJtc https://t.co/PEEB4Oq8xK : 2018-07-23 15:19:08 : thehill : Washington, DC\n",
      " \n",
      "German Star Player With Turkish Roots Says He Quit National Team Over Racism https://t.co/HqDUVNauNi : 2018-07-23 15:18:45 : NPR : \n",
      " \n",
      "Bud Brown is a lifetime NRA member, but says he had no idea about a massive class-action lawsuit about Taurus handg… https://t.co/uq1B50evv3 : 2018-07-23 15:18:00 : wsbtv : Atlanta, GA\n",
      " \n",
      "Does GOP criticism of Trump do anything? https://t.co/LOXLpcujGD : 2018-07-23 15:17:34 : FiveThirtyEight : New York, NY\n",
      " \n",
      "Is your family making you feel like an angsty teen again? This playlist will remind you why you like them. https://t.co/qi6HU3rvQa : 2018-07-23 15:17:00 : TEDTalks : New York, NY\n",
      " \n",
      "GOP lawmaker: Trump was \"manipulated\" by Putin https://t.co/MAaYOu8c3n https://t.co/62OQBmKRTH : 2018-07-23 15:16:07 : thehill : Washington, DC\n",
      " \n",
      "Rand Paul wants John Brennan's security clearance revoked https://t.co/jGFiQYAx1V : 2018-07-23 15:15:08 : politico : Washington, D.C.\n",
      " \n",
      "German soccer player quits national team over \"racism\" https://t.co/bg4akk5aZa https://t.co/e8pRRBAMnX : 2018-07-23 15:13:06 : thehill : Washington, DC\n",
      " \n",
      "THIS WEEK: House GOP heads for the exit https://t.co/lPAnjfNb5y https://t.co/PKtRmIkWqQ : 2018-07-23 15:10:04 : thehill : Washington, DC\n",
      " \n",
      "RT @bluestein: https://t.co/v3KEe6nw38 #gapol https://t.co/oo7qsIyCIb : 2018-07-23 15:09:49 : PoliticallyGa : Atlanta, GA\n",
      " \n",
      "Hussein is 13 and dreams of becoming a doctor. Unfortunately he lives in an area near Saada, #Yemen, which has one… https://t.co/1Ph7RWkIcu : 2018-07-23 15:08:58 : WFP : Worldwide\n",
      " \n",
      "Ex-Obama adviser praises Trump for action in Syria https://t.co/ITmHeAxvrl https://t.co/07mJvjGVME : 2018-07-23 15:07:03 : thehill : Washington, DC\n",
      " \n",
      "Trump has had the latitude \"to walk his words back,\" ex-White House stenographer Beck Dorey-Stein says, \"because he… https://t.co/gAYR8pELof : 2018-07-23 15:05:00 : nprpolitics : Washington, DC\n",
      " \n",
      "Pompeo: Iran's leaders resemble \"the mafia more than a government\" https://t.co/Fm6mYIomeq https://t.co/PcVHECZloj : 2018-07-23 15:04:04 : thehill : Washington, DC\n",
      " \n",
      "President Trump threatened Iran in a late-night, all-caps tweet, responding angrily after Iranian President Hassan… https://t.co/vAZnNVA9Q6 : 2018-07-23 15:03:00 : NPR : \n",
      " \n",
      "RT @RElliotWSB: This came from Brian Kemp earlier this morning. He calls State Rep. Jason Spencer's actions \"hurtful\" and \"insensitive.\" Sp… : 2018-07-23 15:02:18 : wsbtv : Atlanta, GA\n",
      " \n",
      "RT @BradNitzWSB: Tennis ball sized hail (2.5\") in Dacula Saturday tied for 2nd largest hailstone in Georgia in July.  Largest in July was 2… : 2018-07-23 15:01:49 : wsbtv : Atlanta, GA\n",
      " \n",
      "Spread some kindness and hope this week 💙\n",
      "\n",
      "@voicesofyouth https://t.co/SKuY138QD7 : 2018-07-23 15:01:44 : UNICEF : \n",
      " \n",
      "Former GOP governor calls on fellow Republicans to demand Trump’s resignation: https://t.co/aJmIE5Zk6J https://t.co/negDuzWSUa : 2018-07-23 15:01:07 : thehill : Washington, DC\n",
      " \n",
      "Our deepest sympathies go out to all who have been touched by last week’s tragic boating accident in Branson, Misso… https://t.co/sCSIViyMo6 : 2018-07-23 15:00:48 : RedCross : Washington, DC\n",
      " \n"
     ]
    }
   ],
   "source": [
    "# foreach through all tweets pulled\n",
    "for tweet in public_tweets:\n",
    "   # printing the text stored inside the tweet object\n",
    "    print (tweet.text + \" : \" + str(tweet.created_at) + \" : \" + tweet.user.screen_name + \" : \" + tweet.user.location) \n",
    "    print (\" \")"
   ]
  },
  {
   "cell_type": "code",
   "execution_count": 18,
   "metadata": {},
   "outputs": [
    {
     "name": "stdout",
     "output_type": "stream",
     "text": [
      "Marina Gross, the only other American in the room during President Trump’s meeting with President Putin, faces incr… https://t.co/Z1lX0aUmxf\n",
      "\"Flint isn't the only jurisdiction with elevated levels of lead in the water, with failures to monitor lead levels… https://t.co/ETNbQ3QqaI\n",
      "RT @nytimesworld: Afghans say 14 members of one family were killed in a U.S. airstrike in Kunduz, but the American military denied civilian…\n",
      "Tens of thousands of volunteers are being sought to join the Big Butterfly Count in Britain https://t.co/kWIsip25h4\n",
      "For some foreign-born New Yorkers, the city has become too expensive for their American dreams. Next stop? Philadel… https://t.co/rVN3u70Baa\n",
      "President Trump breaks out the \"enemy of the people\" phrase during moments of peak criticism. Here's a list. https://t.co/9FtDSwSXBX\n",
      "\"Michael Jackson: On the Wall\" brings together the work of 48 artists across numerous media, from Andy Warhol's sil… https://t.co/lXKIZC3xEU\n",
      "Morning Briefing: Here's what you need to know to start your day \n",
      " https://t.co/36ieJKSy8s https://t.co/Y0O4SfNCo0\n",
      "‘S-Town's\" treatment of its main character was riveting. But was it unlawful? https://t.co/c8shqpk1qk https://t.co/vmdxLGRkyn\n",
      "Here's what it takes to get an abortion in two U.S. states with distinct approaches https://t.co/48MEIbdVEw\n",
      "Video: How the director of national intelligence found out President Trump had invited Vladimir Putin to the White… https://t.co/JjQWyvmHla\n",
      "Your daily @DealBook Briefing:\n",
      "\n",
      "• Disney won Fox. Will it get Sky, too?\n",
      "\n",
      "• Trump's swipe at the Fed could backfire.… https://t.co/i3BQQ5wJAj\n",
      "\"We are not an aggressive country.\" Montenegro is suddenly in the news because of criticisms President Trump made o… https://t.co/o53J7tlho6\n",
      "At least 11 people were killed Thursday night when a tourist boat capsized in a southern Missouri lake, the authori… https://t.co/kHBeSAWMGE\n",
      "Mark Zuckerberg prompted outrage after his attempt to explain Facebook's stance on hate speech and misinformation —… https://t.co/LmajP8SEAL\n",
      "The Interior Department intends to make it more difficult to shield species that are considered \"threatened,\" which… https://t.co/2Npcyiggg9\n",
      "Bill Shine, President Trump's communications chief, was subpoenaed last year by a federal grand jury in New York as… https://t.co/V7BKRFl844\n",
      "\"The flows in the rivers and lakes are exceptionally low, except in the very northern part of the country. We have… https://t.co/KDkJsKuGCg\n",
      "In exchanges with reporters and lawmakers, Facebook's leaders have been comically tripped up by some of the most ba… https://t.co/3My22jRErM\n",
      "Morning Briefing: Here's what you need to know to start your day \n",
      " https://t.co/Ufl39VnVj8 https://t.co/GbNdWAGoae\n"
     ]
    }
   ],
   "source": [
    "# Creating the API object while passing in auth information\n",
    "api = tweepy.API(auth)\n",
    "\n",
    "# The Twitter user who we want to get tweets from\n",
    "name = \"nytimes\"\n",
    "# Number of tweets to pull\n",
    "tweetCount = 20\n",
    "\n",
    "# Calling the user_timeline function with our parameters\n",
    "results = api.user_timeline(id=name, count=tweetCount)"
   ]
  },
  {
   "cell_type": "code",
   "execution_count": 19,
   "metadata": {},
   "outputs": [
    {
     "name": "stdout",
     "output_type": "stream",
     "text": [
      "Marina Gross, the only other American in the room during President Trump’s meeting with President Putin, faces incr… https://t.co/Z1lX0aUmxf\n",
      "\"Flint isn't the only jurisdiction with elevated levels of lead in the water, with failures to monitor lead levels… https://t.co/ETNbQ3QqaI\n",
      "RT @nytimesworld: Afghans say 14 members of one family were killed in a U.S. airstrike in Kunduz, but the American military denied civilian…\n",
      "Tens of thousands of volunteers are being sought to join the Big Butterfly Count in Britain https://t.co/kWIsip25h4\n",
      "For some foreign-born New Yorkers, the city has become too expensive for their American dreams. Next stop? Philadel… https://t.co/rVN3u70Baa\n",
      "President Trump breaks out the \"enemy of the people\" phrase during moments of peak criticism. Here's a list. https://t.co/9FtDSwSXBX\n",
      "\"Michael Jackson: On the Wall\" brings together the work of 48 artists across numerous media, from Andy Warhol's sil… https://t.co/lXKIZC3xEU\n",
      "Morning Briefing: Here's what you need to know to start your day \n",
      " https://t.co/36ieJKSy8s https://t.co/Y0O4SfNCo0\n",
      "‘S-Town's\" treatment of its main character was riveting. But was it unlawful? https://t.co/c8shqpk1qk https://t.co/vmdxLGRkyn\n",
      "Here's what it takes to get an abortion in two U.S. states with distinct approaches https://t.co/48MEIbdVEw\n",
      "Video: How the director of national intelligence found out President Trump had invited Vladimir Putin to the White… https://t.co/JjQWyvmHla\n",
      "Your daily @DealBook Briefing:\n",
      "\n",
      "• Disney won Fox. Will it get Sky, too?\n",
      "\n",
      "• Trump's swipe at the Fed could backfire.… https://t.co/i3BQQ5wJAj\n",
      "\"We are not an aggressive country.\" Montenegro is suddenly in the news because of criticisms President Trump made o… https://t.co/o53J7tlho6\n",
      "At least 11 people were killed Thursday night when a tourist boat capsized in a southern Missouri lake, the authori… https://t.co/kHBeSAWMGE\n",
      "Mark Zuckerberg prompted outrage after his attempt to explain Facebook's stance on hate speech and misinformation —… https://t.co/LmajP8SEAL\n",
      "The Interior Department intends to make it more difficult to shield species that are considered \"threatened,\" which… https://t.co/2Npcyiggg9\n",
      "Bill Shine, President Trump's communications chief, was subpoenaed last year by a federal grand jury in New York as… https://t.co/V7BKRFl844\n",
      "\"The flows in the rivers and lakes are exceptionally low, except in the very northern part of the country. We have… https://t.co/KDkJsKuGCg\n",
      "In exchanges with reporters and lawmakers, Facebook's leaders have been comically tripped up by some of the most ba… https://t.co/3My22jRErM\n",
      "Morning Briefing: Here's what you need to know to start your day \n",
      " https://t.co/Ufl39VnVj8 https://t.co/GbNdWAGoae\n"
     ]
    }
   ],
   "source": [
    "# foreach through all tweets pulled\n",
    "for tweet in results:\n",
    "   # printing the text stored inside the tweet object\n",
    "   print (tweet.text)"
   ]
  },
  {
   "cell_type": "code",
   "execution_count": 22,
   "metadata": {},
   "outputs": [
    {
     "name": "stdout",
     "output_type": "stream",
     "text": [
      "trixiestlforyou Tweeted: Daddy I need $130 ASAP to keep my water on PLEASE!!!! I am available right now for incall, have sexy videos and pic… https://t.co/HgCNlERv5a\n",
      "naomixo28 Tweeted: @SingleManMingle Incall or outcall?\n",
      "shemalenanda Tweeted: RT @shemale_nanda: avail booking incall or outcall\n",
      "avail camsex or vcs \n",
      "6281291447872wa  \n",
      " \n",
      "@shemalehighclas\n",
      "@waria_highclass  @real_shemal…\n",
      "Ts_ladivaa Tweeted: RT @Ts_ladiva: Im Ready for 💕\n",
      "🌼Booking incall or outcall \n",
      "🌼Vcs/camsex \n",
      "🌼Bdsm Scene \n",
      "\n",
      "Lokasi Tanjung duren, jakarta barat \n",
      "6281288696100 wa…\n",
      "SexiMexiLina Tweeted: Happy Saturday! 😀 #AvailableNow #TopekaKansas #Bodyrubs #Massage #Relax #Wanamaker #Incall #Exotic #Latina #Brunette\n",
      "trixiestlforyou Tweeted: Incall is finally available today near six flags!!!! 636-345-4195 Come over asap before I can’t host!!!! #stl #sex… https://t.co/PTEuZ1qY4s\n",
      "EscortBayswater Tweeted: Norma is a young brunette high-class A level escort girl from Spain located in Spring Street, Paddington, London, W… https://t.co/Ni2lkYq3hU\n"
     ]
    }
   ],
   "source": [
    "# Creating the API object while passing in auth information\n",
    "api = tweepy.API(auth)\n",
    "\n",
    "# The search term you want to find\n",
    "query = \"incall\"\n",
    "# Language code (follows ISO 639-1 standards)\n",
    "language = \"en\"\n",
    "\n",
    "# Calling the user_timeline function with our parameters\n",
    "results = api.search(q=query, lang=language)\n",
    "\n",
    "# foreach through all tweets pulled\n",
    "for tweet in results:\n",
    "   # printing the text stored inside the tweet object\n",
    "   print (tweet.user.screen_name,\"Tweeted:\",tweet.text)"
   ]
  },
  {
   "cell_type": "code",
   "execution_count": null,
   "metadata": {},
   "outputs": [],
   "source": [
    "from tweepy.streaming import StreamListener\n",
    "from tweepy import OAuthHandler\n",
    "from tweepy import Stream\n",
    "streamer = Streamer(auth, callback)\n",
    "streamer.stream(track=\"escort\", languages=[\"en\"])\n",
    "class ProcessFoundItemsListener(StreamListener):\n",
    "    def on_data(self, tweet):\n",
    "        print (tweet)\n",
    "    def on_error(self, status_code):\n",
    "        print (status_code)"
   ]
  },
  {
   "cell_type": "code",
   "execution_count": null,
   "metadata": {},
   "outputs": [],
   "source": [
    "streamer = Streamer(auth, callback)\n",
    "streamer.stream(track=\"escort\", languages=[\"en\"])\n",
    "class ProcessFoundItemsListener(StreamListener):\n",
    "    def on_data(self, tweet):\n",
    "        print tweet\n",
    "    def on_error(self, status_code):\n",
    "        print status_code"
   ]
  },
  {
   "cell_type": "code",
   "execution_count": null,
   "metadata": {},
   "outputs": [],
   "source": []
  }
 ],
 "metadata": {
  "kernelspec": {
   "display_name": "Python 3",
   "language": "python",
   "name": "python3"
  },
  "language_info": {
   "codemirror_mode": {
    "name": "ipython",
    "version": 3
   },
   "file_extension": ".py",
   "mimetype": "text/x-python",
   "name": "python",
   "nbconvert_exporter": "python",
   "pygments_lexer": "ipython3",
   "version": "3.6.5"
  }
 },
 "nbformat": 4,
 "nbformat_minor": 2
}
